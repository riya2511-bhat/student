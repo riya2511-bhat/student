{
  "nbformat": 4,
  "nbformat_minor": 0,
  "metadata": {
    "colab": {
      "provenance": [],
      "collapsed_sections": [],
      "authorship_tag": "ABX9TyP67HfHCf14JlSwc/R9Lcmc",
      "include_colab_link": true
    },
    "kernelspec": {
      "name": "python3",
      "display_name": "Python 3"
    },
    "language_info": {
      "name": "python"
    }
  },
  "cells": [
    {
      "cell_type": "markdown",
      "metadata": {
        "id": "view-in-github",
        "colab_type": "text"
      },
      "source": [
        "<a href=\"https://colab.research.google.com/github/riya2511-bhat/student/blob/main/project_password_generator.ipynb\" target=\"_parent\"><img src=\"https://colab.research.google.com/assets/colab-badge.svg\" alt=\"Open In Colab\"/></a>"
      ]
    },
    {
      "cell_type": "code",
      "execution_count": null,
      "metadata": {
        "colab": {
          "base_uri": "https://localhost:8080/"
        },
        "id": "IsooKsV35ChH",
        "outputId": "eebac064-1581-4e4f-8c63-a5b0db00592f"
      },
      "outputs": [
        {
          "output_type": "stream",
          "name": "stdout",
          "text": [
            "Password length10\n",
            "Password for you\n",
            "  q2Taw8EbW^\n"
          ]
        }
      ],
      "source": [
        "##Generate Password with only one special character!!\n",
        "\n",
        "\n",
        "import random\n",
        "import string\n",
        "len=int(input(\"Password length\"))\n",
        "select = string.ascii_letters + string.digits\n",
        "count=0\n",
        "pwd=(\" \")\n",
        "while count<len-1:\n",
        "  pwd=pwd+random.choice(select)\n",
        "  count+=1\n",
        "print(\"Password for you\\n\",pwd+random.choice(string.punctuation))"
      ]
    },
    {
      "cell_type": "code",
      "source": [],
      "metadata": {
        "id": "TKEYQqa655JL"
      },
      "execution_count": null,
      "outputs": []
    }
  ]
}